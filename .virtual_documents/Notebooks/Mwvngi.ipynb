


# Importing relevant libraries
import numpy as np   
import pandas as pd
import seaborn as sns
import matplotlib.pyplot as plt


# Loading the dataset
df = pd.read_csv(r"D:\moringa_school\CapStone\final_project\Data\reduced_reddit.csv")
df.head()


# Statistical Summary
df.describe()


df.info()








# Checking for missing values in percentage
missing = (df.isnull().sum()/len(df))*100
missing


# Filling in for missing values in columns
# The 'Body' column with an empty string and the 'num_comments' with the median

df['num_comments'] = df['num_comments'].fillna(df['num_comments'].median())
df['body'] = df['body'].fillna('')


df.isnull().sum()





# Checking for duplicates
df.duplicated().sum()





# Converting created_utc to datetime format
df['created_utc'] = pd.to_datetime(df['created_utc'], unit='s')
df.rename(columns={'created_utc': 'date'})





# Plot distribution for the labels
sns.countplot(x='label', data=df, palette='viridis')
plt.title('Label Distribution')
plt.show()


# Plot distribution of upvotes
sns.histplot(df['upvotes'], bins=50, kde=True, color='blue')
plt.title('Distribution of Upvotes')
plt.show()


# Plot distribution of Number of Comments 
sns.histplot(df['num_comments'], bins=50, kde=True, color='green')
plt.title('Distribution of Number of Comments')
plt.show()


df['label'].value_counts()















