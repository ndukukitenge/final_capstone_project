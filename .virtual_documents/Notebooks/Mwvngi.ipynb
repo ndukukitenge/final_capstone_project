


# Importing relevant libraries
import pandas as pd
import numpy as np   
import seaborn as sns
import matplotlib.pyplot as plt


# Loading the dataset
df = pd.read_csv(r"D:\moringa_school\CapStone\final_project\Data\reduced_reddit.csv")
df.head()


# Statistical Summary
df.describe()


df.info()





# Checking for missing values in percentage
missing = (df.isnull().sum()/len(df))*100
missing


# Filling in missing values
df.dropna(subset=['body', 'num_comments'], inplace=True)

df.isnull().sum()


# Checking for duplicates
df.duplicated().sum()


df.info()





# Plot distribution for the labels
sns.countplot(x='label', data=df, palette='viridis')
plt.title('Label Distribution')
plt.show()



























