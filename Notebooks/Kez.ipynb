{
 "cells": [
  {
   "cell_type": "code",
   "execution_count": 60,
   "metadata": {},
   "outputs": [],
   "source": [
    "import pandas as pd\n",
    "import numpy as np\n",
    "import os\n",
    "\n",
    "\n"
   ]
  },
  {
   "cell_type": "code",
   "execution_count": 61,
   "metadata": {},
   "outputs": [],
   "source": [
    "\n",
    "\n",
    "# Use the absolute path to the file\n",
    "#file_path = r'C:\\Users\\GICHEHA\\Documents\\Flatiron\\dsc-data-science-env-config\\phase_5.0\\Data\\reduced_reddit.csv'\n",
    "\n",
    "\n"
   ]
  },
  {
   "cell_type": "code",
   "execution_count": 62,
   "metadata": {},
   "outputs": [
    {
     "name": "stdout",
     "output_type": "stream",
     "text": [
      "                                               title  \\\n",
      "0                        Day 18 of doing 50 push-ups   \n",
      "1  There isn’t a better feeling than finishing yo...   \n",
      "2  LMAOOO I can only get this guy to talk to me i...   \n",
      "3                       This isn't going to work out   \n",
      "4  Am I the only guy who found it hurtful as a ch...   \n",
      "\n",
      "                                                body  upvotes   created_utc  \\\n",
      "0                                                NaN      4.0  1.619357e+09   \n",
      "1  Then your teacher hits you with that “ Good jo...      7.0  1.554103e+09   \n",
      "2                              Yeahhh maybe not babe      4.0  1.649342e+09   \n",
      "3                                                NaN    236.0  1.417630e+09   \n",
      "4   \\n\\nLike... why? How is that funny? How does ...      6.0  1.569280e+09   \n",
      "\n",
      "   num_comments  label  \n",
      "0           4.0    0.0  \n",
      "1           NaN    0.0  \n",
      "2          12.0    0.0  \n",
      "3          33.0    0.0  \n",
      "4           4.0    0.0  \n"
     ]
    }
   ],
   "source": [
    "#data = pd.read_csv(file_path)  # \n",
    "data = pd.read_csv('../Data/reduced_reddit.csv', index_col=False)\n",
    "print(data.head())  # Display the first few rows of the dataframe\n"
   ]
  },
  {
   "cell_type": "code",
   "execution_count": 63,
   "metadata": {},
   "outputs": [
    {
     "data": {
      "text/html": [
       "<div>\n",
       "<style scoped>\n",
       "    .dataframe tbody tr th:only-of-type {\n",
       "        vertical-align: middle;\n",
       "    }\n",
       "\n",
       "    .dataframe tbody tr th {\n",
       "        vertical-align: top;\n",
       "    }\n",
       "\n",
       "    .dataframe thead th {\n",
       "        text-align: right;\n",
       "    }\n",
       "</style>\n",
       "<table border=\"1\" class=\"dataframe\">\n",
       "  <thead>\n",
       "    <tr style=\"text-align: right;\">\n",
       "      <th></th>\n",
       "      <th>upvotes</th>\n",
       "      <th>created_utc</th>\n",
       "      <th>num_comments</th>\n",
       "      <th>label</th>\n",
       "    </tr>\n",
       "  </thead>\n",
       "  <tbody>\n",
       "    <tr>\n",
       "      <th>count</th>\n",
       "      <td>98826.000000</td>\n",
       "      <td>9.882600e+04</td>\n",
       "      <td>94297.000000</td>\n",
       "      <td>98826.000000</td>\n",
       "    </tr>\n",
       "    <tr>\n",
       "      <th>mean</th>\n",
       "      <td>62.315555</td>\n",
       "      <td>1.566569e+09</td>\n",
       "      <td>15.217069</td>\n",
       "      <td>0.194443</td>\n",
       "    </tr>\n",
       "    <tr>\n",
       "      <th>std</th>\n",
       "      <td>937.347581</td>\n",
       "      <td>6.977745e+07</td>\n",
       "      <td>71.638197</td>\n",
       "      <td>0.395773</td>\n",
       "    </tr>\n",
       "    <tr>\n",
       "      <th>min</th>\n",
       "      <td>4.000000</td>\n",
       "      <td>1.202084e+09</td>\n",
       "      <td>1.000000</td>\n",
       "      <td>0.000000</td>\n",
       "    </tr>\n",
       "    <tr>\n",
       "      <th>25%</th>\n",
       "      <td>5.000000</td>\n",
       "      <td>1.552254e+09</td>\n",
       "      <td>4.000000</td>\n",
       "      <td>0.000000</td>\n",
       "    </tr>\n",
       "    <tr>\n",
       "      <th>50%</th>\n",
       "      <td>7.000000</td>\n",
       "      <td>1.578218e+09</td>\n",
       "      <td>7.000000</td>\n",
       "      <td>0.000000</td>\n",
       "    </tr>\n",
       "    <tr>\n",
       "      <th>75%</th>\n",
       "      <td>11.000000</td>\n",
       "      <td>1.611584e+09</td>\n",
       "      <td>14.000000</td>\n",
       "      <td>0.000000</td>\n",
       "    </tr>\n",
       "    <tr>\n",
       "      <th>max</th>\n",
       "      <td>62899.000000</td>\n",
       "      <td>1.672531e+09</td>\n",
       "      <td>7880.000000</td>\n",
       "      <td>1.000000</td>\n",
       "    </tr>\n",
       "  </tbody>\n",
       "</table>\n",
       "</div>"
      ],
      "text/plain": [
       "            upvotes   created_utc  num_comments         label\n",
       "count  98826.000000  9.882600e+04  94297.000000  98826.000000\n",
       "mean      62.315555  1.566569e+09     15.217069      0.194443\n",
       "std      937.347581  6.977745e+07     71.638197      0.395773\n",
       "min        4.000000  1.202084e+09      1.000000      0.000000\n",
       "25%        5.000000  1.552254e+09      4.000000      0.000000\n",
       "50%        7.000000  1.578218e+09      7.000000      0.000000\n",
       "75%       11.000000  1.611584e+09     14.000000      0.000000\n",
       "max    62899.000000  1.672531e+09   7880.000000      1.000000"
      ]
     },
     "execution_count": 63,
     "metadata": {},
     "output_type": "execute_result"
    }
   ],
   "source": [
    "#check the data describe \n",
    "data.describe()"
   ]
  },
  {
   "cell_type": "code",
   "execution_count": 64,
   "metadata": {},
   "outputs": [
    {
     "name": "stdout",
     "output_type": "stream",
     "text": [
      "<class 'pandas.core.frame.DataFrame'>\n",
      "RangeIndex: 98826 entries, 0 to 98825\n",
      "Data columns (total 6 columns):\n",
      " #   Column        Non-Null Count  Dtype  \n",
      "---  ------        --------------  -----  \n",
      " 0   title         98826 non-null  object \n",
      " 1   body          80371 non-null  object \n",
      " 2   upvotes       98826 non-null  float64\n",
      " 3   created_utc   98826 non-null  float64\n",
      " 4   num_comments  94297 non-null  float64\n",
      " 5   label         98826 non-null  float64\n",
      "dtypes: float64(4), object(2)\n",
      "memory usage: 4.5+ MB\n"
     ]
    }
   ],
   "source": [
    "data.info()"
   ]
  },
  {
   "cell_type": "markdown",
   "metadata": {},
   "source": [
    "### Data Cleaning"
   ]
  },
  {
   "cell_type": "code",
   "execution_count": 65,
   "metadata": {},
   "outputs": [
    {
     "data": {
      "text/plain": [
       "title            0.000000\n",
       "body            18.674236\n",
       "upvotes          0.000000\n",
       "created_utc      0.000000\n",
       "num_comments     4.582802\n",
       "label            0.000000\n",
       "dtype: float64"
      ]
     },
     "execution_count": 65,
     "metadata": {},
     "output_type": "execute_result"
    }
   ],
   "source": [
    "#Handle missing values\n",
    "#check to see if there are null values in percentage form\n",
    "data.isnull().sum() / len(data) * 100"
   ]
  },
  {
   "cell_type": "markdown",
   "metadata": {},
   "source": [
    "Because the dataset is relatively large, I decides to drop rows that have missing values "
   ]
  },
  {
   "cell_type": "code",
   "execution_count": 66,
   "metadata": {},
   "outputs": [],
   "source": [
    "clean_data = data.dropna()\n"
   ]
  },
  {
   "cell_type": "code",
   "execution_count": 67,
   "metadata": {},
   "outputs": [
    {
     "name": "stdout",
     "output_type": "stream",
     "text": [
      "title               0\n",
      "body            18455\n",
      "upvotes             0\n",
      "created_utc         0\n",
      "num_comments     4529\n",
      "label               0\n",
      "dtype: int64\n"
     ]
    }
   ],
   "source": [
    "# Verify that there are no more missing values\n",
    "print(data.isnull().sum())"
   ]
  },
  {
   "cell_type": "markdown",
   "metadata": {},
   "source": [
    "Remove duplicates"
   ]
  },
  {
   "cell_type": "code",
   "execution_count": 68,
   "metadata": {},
   "outputs": [],
   "source": [
    "# Remove duplicates and assign it back to the dataframe\n",
    "clean_data = clean_data.drop_duplicates()\n",
    "\n"
   ]
  },
  {
   "cell_type": "code",
   "execution_count": 69,
   "metadata": {},
   "outputs": [
    {
     "name": "stdout",
     "output_type": "stream",
     "text": [
      "<class 'pandas.core.frame.DataFrame'>\n",
      "Int64Index: 77051 entries, 2 to 98825\n",
      "Data columns (total 6 columns):\n",
      " #   Column        Non-Null Count  Dtype  \n",
      "---  ------        --------------  -----  \n",
      " 0   title         77051 non-null  object \n",
      " 1   body          77051 non-null  object \n",
      " 2   upvotes       77051 non-null  float64\n",
      " 3   created_utc   77051 non-null  float64\n",
      " 4   num_comments  77051 non-null  float64\n",
      " 5   label         77051 non-null  float64\n",
      "dtypes: float64(4), object(2)\n",
      "memory usage: 4.1+ MB\n"
     ]
    }
   ],
   "source": [
    "clean_data.info()"
   ]
  },
  {
   "cell_type": "markdown",
   "metadata": {},
   "source": [
    "having 77,051 rows seemed to small so I opted to fill the missing rows in the body column with \"'no content\" to presere the data set instead.\n"
   ]
  },
  {
   "cell_type": "code",
   "execution_count": 71,
   "metadata": {},
   "outputs": [
    {
     "name": "stdout",
     "output_type": "stream",
     "text": [
      "<class 'pandas.core.frame.DataFrame'>\n",
      "RangeIndex: 98826 entries, 0 to 98825\n",
      "Data columns (total 6 columns):\n",
      " #   Column        Non-Null Count  Dtype  \n",
      "---  ------        --------------  -----  \n",
      " 0   title         98826 non-null  object \n",
      " 1   body          98826 non-null  object \n",
      " 2   upvotes       98826 non-null  float64\n",
      " 3   created_utc   98826 non-null  float64\n",
      " 4   num_comments  94297 non-null  float64\n",
      " 5   label         98826 non-null  float64\n",
      "dtypes: float64(4), object(2)\n",
      "memory usage: 4.5+ MB\n"
     ]
    }
   ],
   "source": [
    "# Make sure to initialize 'data_main' with 'data' first\n",
    "data_main = data.copy()  # This creates a copy of the original DataFrame\n",
    "\n",
    "# Now you can fill missing values in 'body' column for the new 'data_main'\n",
    "data_main['body'] = data_main['body'].fillna(\"No content\")\n",
    "\n",
    "# Check the DataFrame info again to confirm the change\n",
    "data_main.info() \n",
    "\n",
    "\n"
   ]
  },
  {
   "cell_type": "code",
   "execution_count": 72,
   "metadata": {},
   "outputs": [
    {
     "data": {
      "text/plain": [
       "title              0\n",
       "body               0\n",
       "upvotes            0\n",
       "created_utc        0\n",
       "num_comments    4529\n",
       "label              0\n",
       "dtype: int64"
      ]
     },
     "execution_count": 72,
     "metadata": {},
     "output_type": "execute_result"
    }
   ],
   "source": [
    "#check for null values \n",
    "# Verify that there are no more missing values\n",
    "data_main.isnull().sum()"
   ]
  },
  {
   "cell_type": "code",
   "execution_count": 81,
   "metadata": {},
   "outputs": [
    {
     "name": "stdout",
     "output_type": "stream",
     "text": [
      "<class 'pandas.core.frame.DataFrame'>\n",
      "RangeIndex: 98826 entries, 0 to 98825\n",
      "Data columns (total 6 columns):\n",
      " #   Column        Non-Null Count  Dtype  \n",
      "---  ------        --------------  -----  \n",
      " 0   title         98826 non-null  object \n",
      " 1   body          98826 non-null  object \n",
      " 2   upvotes       98826 non-null  float64\n",
      " 3   created_utc   98826 non-null  float64\n",
      " 4   num_comments  98826 non-null  float64\n",
      " 5   label         98826 non-null  float64\n",
      "dtypes: float64(4), object(2)\n",
      "memory usage: 4.5+ MB\n"
     ]
    }
   ],
   "source": [
    "# Now you can fill missing values in 'body' column for the new 'data_main'\n",
    "data_main['num_comments'] = data_main['num_comments'].fillna(0)\n",
    "\n",
    "# Check the DataFrame info again to confirm the change\n",
    "data_main.info() "
   ]
  },
  {
   "cell_type": "code",
   "execution_count": 82,
   "metadata": {},
   "outputs": [
    {
     "data": {
      "text/plain": [
       "title           0\n",
       "body            0\n",
       "upvotes         0\n",
       "created_utc     0\n",
       "num_comments    0\n",
       "label           0\n",
       "dtype: int64"
      ]
     },
     "execution_count": 82,
     "metadata": {},
     "output_type": "execute_result"
    }
   ],
   "source": [
    "#check for null values \n",
    "# Verify that there are no more missing values\n",
    "data_main.isnull().sum()"
   ]
  },
  {
   "cell_type": "code",
   "execution_count": 84,
   "metadata": {},
   "outputs": [
    {
     "name": "stdout",
     "output_type": "stream",
     "text": [
      "                                               title  \\\n",
      "0                        Day 18 of doing 50 push-ups   \n",
      "1  There isn’t a better feeling than finishing yo...   \n",
      "2  LMAOOO I can only get this guy to talk to me i...   \n",
      "3                       This isn't going to work out   \n",
      "4  Am I the only guy who found it hurtful as a ch...   \n",
      "5                                   Phew , close one   \n",
      "6              Listen to my favorite song part 2 🤩🤩🤩   \n",
      "7                                 Hard core cuddling   \n",
      "8                      Don't communicate with women.   \n",
      "9       Do you guys just ever want to be left alone?   \n",
      "\n",
      "                                                body  upvotes  \\\n",
      "0                                         No content      4.0   \n",
      "1  Then your teacher hits you with that “ Good jo...      7.0   \n",
      "2                              Yeahhh maybe not babe      4.0   \n",
      "3                                         No content    236.0   \n",
      "4   \\n\\nLike... why? How is that funny? How does ...      6.0   \n",
      "5                                         No content     11.0   \n",
      "6                       https://youtu.be/MtN1YnoL46Q      9.0   \n",
      "7                                             #moans     41.0   \n",
      "8  I watched my friend go to high five a girl and...      7.0   \n",
      "9  Just, after a bunch of socialising I want to c...      5.0   \n",
      "\n",
      "          created_utc  num_comments  label  \n",
      "0 2021-04-25 13:25:39           4.0    0.0  \n",
      "1 2019-04-01 07:19:57           0.0    0.0  \n",
      "2 2022-04-07 14:35:00          12.0    0.0  \n",
      "3 2014-12-03 18:12:52          33.0    0.0  \n",
      "4 2019-09-23 23:07:59           4.0    0.0  \n",
      "5 2020-04-20 13:31:02           0.0    0.0  \n",
      "6 2021-01-15 20:49:47          11.0    0.0  \n",
      "7 2021-07-11 09:53:23          19.0    0.0  \n",
      "8 2019-05-14 22:34:33          11.0    0.0  \n",
      "9 2017-11-23 23:05:58          10.0    0.0  \n"
     ]
    }
   ],
   "source": [
    "# Convert 'created_utc' column from UTC epoch time to datetime\n",
    "data_main['created_utc'] = pd.to_datetime(data_main['created_utc'], unit='s')\n",
    "\n",
    "# To see the updated DataFrame\n",
    "print(data_main.head(10))\n"
   ]
  }
 ],
 "metadata": {
  "kernelspec": {
   "display_name": "learn-env",
   "language": "python",
   "name": "python3"
  },
  "language_info": {
   "codemirror_mode": {
    "name": "ipython",
    "version": 3
   },
   "file_extension": ".py",
   "mimetype": "text/x-python",
   "name": "python",
   "nbconvert_exporter": "python",
   "pygments_lexer": "ipython3",
   "version": "3.8.5"
  }
 },
 "nbformat": 4,
 "nbformat_minor": 2
}
