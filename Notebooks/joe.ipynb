{
 "cells": [
  {
   "cell_type": "code",
   "execution_count": 1,
   "metadata": {},
   "outputs": [],
   "source": [
    "#new notebook"
   ]
  },
  {
   "cell_type": "code",
   "execution_count": 1,
   "metadata": {},
   "outputs": [],
   "source": [
    "import pandas as pd"
   ]
  },
  {
   "cell_type": "code",
   "execution_count": 4,
   "metadata": {},
   "outputs": [
    {
     "data": {
      "text/html": [
       "<div>\n",
       "<style scoped>\n",
       "    .dataframe tbody tr th:only-of-type {\n",
       "        vertical-align: middle;\n",
       "    }\n",
       "\n",
       "    .dataframe tbody tr th {\n",
       "        vertical-align: top;\n",
       "    }\n",
       "\n",
       "    .dataframe thead th {\n",
       "        text-align: right;\n",
       "    }\n",
       "</style>\n",
       "<table border=\"1\" class=\"dataframe\">\n",
       "  <thead>\n",
       "    <tr style=\"text-align: right;\">\n",
       "      <th></th>\n",
       "      <th>subreddit</th>\n",
       "      <th>title</th>\n",
       "      <th>body</th>\n",
       "      <th>upvotes</th>\n",
       "      <th>created_utc</th>\n",
       "      <th>num_comments</th>\n",
       "      <th>label</th>\n",
       "    </tr>\n",
       "  </thead>\n",
       "  <tbody>\n",
       "    <tr>\n",
       "      <th>0</th>\n",
       "      <td>teenagers</td>\n",
       "      <td>Day 18 of doing 50 push-ups</td>\n",
       "      <td>NaN</td>\n",
       "      <td>4.0</td>\n",
       "      <td>1.619357e+09</td>\n",
       "      <td>4.0</td>\n",
       "      <td>0.0</td>\n",
       "    </tr>\n",
       "    <tr>\n",
       "      <th>1</th>\n",
       "      <td>teenagers</td>\n",
       "      <td>There isn’t a better feeling than finishing yo...</td>\n",
       "      <td>Then your teacher hits you with that “ Good jo...</td>\n",
       "      <td>7.0</td>\n",
       "      <td>1.554103e+09</td>\n",
       "      <td>NaN</td>\n",
       "      <td>0.0</td>\n",
       "    </tr>\n",
       "    <tr>\n",
       "      <th>2</th>\n",
       "      <td>teenagers</td>\n",
       "      <td>LMAOOO I can only get this guy to talk to me i...</td>\n",
       "      <td>Yeahhh maybe not babe</td>\n",
       "      <td>4.0</td>\n",
       "      <td>1.649342e+09</td>\n",
       "      <td>12.0</td>\n",
       "      <td>0.0</td>\n",
       "    </tr>\n",
       "    <tr>\n",
       "      <th>3</th>\n",
       "      <td>teenagers</td>\n",
       "      <td>This isn't going to work out</td>\n",
       "      <td>NaN</td>\n",
       "      <td>236.0</td>\n",
       "      <td>1.417630e+09</td>\n",
       "      <td>33.0</td>\n",
       "      <td>0.0</td>\n",
       "    </tr>\n",
       "    <tr>\n",
       "      <th>4</th>\n",
       "      <td>teenagers</td>\n",
       "      <td>Am I the only guy who found it hurtful as a ch...</td>\n",
       "      <td>\\n\\nLike... why? How is that funny? How does ...</td>\n",
       "      <td>6.0</td>\n",
       "      <td>1.569280e+09</td>\n",
       "      <td>4.0</td>\n",
       "      <td>0.0</td>\n",
       "    </tr>\n",
       "  </tbody>\n",
       "</table>\n",
       "</div>"
      ],
      "text/plain": [
       "   subreddit                                              title  \\\n",
       "0  teenagers                        Day 18 of doing 50 push-ups   \n",
       "1  teenagers  There isn’t a better feeling than finishing yo...   \n",
       "2  teenagers  LMAOOO I can only get this guy to talk to me i...   \n",
       "3  teenagers                       This isn't going to work out   \n",
       "4  teenagers  Am I the only guy who found it hurtful as a ch...   \n",
       "\n",
       "                                                body  upvotes   created_utc  \\\n",
       "0                                                NaN      4.0  1.619357e+09   \n",
       "1  Then your teacher hits you with that “ Good jo...      7.0  1.554103e+09   \n",
       "2                              Yeahhh maybe not babe      4.0  1.649342e+09   \n",
       "3                                                NaN    236.0  1.417630e+09   \n",
       "4   \\n\\nLike... why? How is that funny? How does ...      6.0  1.569280e+09   \n",
       "\n",
       "   num_comments  label  \n",
       "0           4.0    0.0  \n",
       "1           NaN    0.0  \n",
       "2          12.0    0.0  \n",
       "3          33.0    0.0  \n",
       "4           4.0    0.0  "
      ]
     },
     "execution_count": 4,
     "metadata": {},
     "output_type": "execute_result"
    }
   ],
   "source": [
    "df = pd.read_csv(r\"C:\\Users\\admin\\Documents\\Flatiron\\Phase-5\\final_project\\Data\\reduced_reddit.csv\")\n",
    "df.head()"
   ]
  },
  {
   "cell_type": "code",
   "execution_count": 9,
   "metadata": {},
   "outputs": [
    {
     "name": "stdout",
     "output_type": "stream",
     "text": [
      "Elections and Politics\n",
      "r/MentalHealth is looking for moderators\n",
      "Needa chat pls 🥲\n",
      "Depression is a disease - And I hate the response \n",
      "I feel disgusting.\n"
     ]
    }
   ],
   "source": [
    "import praw\n",
    "\n",
    "# Creating a praw instance\n",
    "reddit = praw.Reddit(\n",
    "    client_id=\"mlMOITqAckDQWHNEGjgOvA\",\n",
    "    client_secret=\"tb6a2XS43LoxASHxS6hvjee-FWl6Ig\",\n",
    "    user_agent=\"test_script by /u/YogurtclosetLate878\",\n",
    "    username=\"YogurtclosetLate878\",\n",
    "    password=\"Jkarigo123\"\n",
    ")\n",
    "\n",
    "# Test the connection\n",
    "subreddit = reddit.subreddit(\"mentalhealth\")\n",
    "for post in subreddit.hot(limit=5):\n",
    "    print(post.title)"
   ]
  },
  {
   "cell_type": "code",
   "execution_count": 10,
   "metadata": {},
   "outputs": [
    {
     "name": "stdout",
     "output_type": "stream",
     "text": [
      "Title: Elections and Politics\n",
      "Score: 5\n",
      "Author: Pi25\n",
      "URL: https://www.reddit.com/r/mentalhealth/comments/1gd9l9c/elections_and_politics/\n",
      "\n",
      "Title: r/MentalHealth is looking for moderators\n",
      "Score: 18\n",
      "Author: DrivesInCircles\n",
      "URL: https://www.reddit.com/r/mentalhealth/comments/1e297nd/rmentalhealth_is_looking_for_moderators/\n",
      "\n",
      "Title: Needa chat pls 🥲\n",
      "Score: 12\n",
      "Author: shoondii\n",
      "URL: https://www.reddit.com/r/mentalhealth/comments/1gm0qez/needa_chat_pls/\n",
      "\n",
      "Title: Depression is a disease - And I hate the response \n",
      "Score: 12\n",
      "Author: whitesox-fan\n",
      "URL: https://www.reddit.com/r/mentalhealth/comments/1glz9vl/depression_is_a_disease_and_i_hate_the_response/\n",
      "\n",
      "Title: I feel disgusting.\n",
      "Score: 25\n",
      "Author: Iam_weird123\n",
      "URL: https://www.reddit.com/r/mentalhealth/comments/1gltikc/i_feel_disgusting/\n",
      "\n",
      "Title: Health Anxiety with RFK jr. \"going wild\"\n",
      "Score: 11\n",
      "Author: OldSanJuan9\n",
      "URL: https://www.reddit.com/r/mentalhealth/comments/1glzc76/health_anxiety_with_rfk_jr_going_wild/\n",
      "\n",
      "Title: I just want everyone to know \n",
      "Score: 11\n",
      "Author: Born-Tension639\n",
      "URL: https://www.reddit.com/r/mentalhealth/comments/1glzsbn/i_just_want_everyone_to_know/\n",
      "\n",
      "Title: How do I be happy when I’m unattractive? \n",
      "Score: 6\n",
      "Author: Additional_Jury_927\n",
      "URL: https://www.reddit.com/r/mentalhealth/comments/1gm38sk/how_do_i_be_happy_when_im_unattractive/\n",
      "\n",
      "Title: Did the 2020 Covid lockdown destroy my life? Am I the only one who has never recovered?\n",
      "Score: 30\n",
      "Author: SD05_\n",
      "URL: https://www.reddit.com/r/mentalhealth/comments/1glr2gk/did_the_2020_covid_lockdown_destroy_my_life_am_i/\n",
      "\n",
      "Title: I feel like as a men, it is hard to talk about our own mental health without being seen as weak. \n",
      "Score: 11\n",
      "Author: Dear_Entrepreneur177\n",
      "URL: https://www.reddit.com/r/mentalhealth/comments/1glxcmz/i_feel_like_as_a_men_it_is_hard_to_talk_about_our/\n",
      "\n"
     ]
    }
   ],
   "source": [
    "# Geting posts from mental health subreddit\n",
    "subreddit = reddit.subreddit(\"mentalhealth\")\n",
    "\n",
    "# Displaying the titles of the top 5 hot posts\n",
    "for post in subreddit.hot(limit=10):\n",
    "    print(f\"Title: {post.title}\")\n",
    "    print(f\"Score: {post.score}\")\n",
    "    print(f\"Author: {post.author}\")\n",
    "    print(f\"URL: {post.url}\")\n",
    "    print()"
   ]
  },
  {
   "cell_type": "code",
   "execution_count": null,
   "metadata": {},
   "outputs": [],
   "source": []
  }
 ],
 "metadata": {
  "kernelspec": {
   "display_name": "Python 3",
   "language": "python",
   "name": "python3"
  },
  "language_info": {
   "codemirror_mode": {
    "name": "ipython",
    "version": 3
   },
   "file_extension": ".py",
   "mimetype": "text/x-python",
   "name": "python",
   "nbconvert_exporter": "python",
   "pygments_lexer": "ipython3",
   "version": "3.8.5"
  }
 },
 "nbformat": 4,
 "nbformat_minor": 4
}
