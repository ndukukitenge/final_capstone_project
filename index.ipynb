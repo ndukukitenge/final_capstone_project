{
 "cells": [
  {
   "cell_type": "markdown",
   "metadata": {},
   "source": [
    "# Machine Learning for Social Media-Based Depression Analysis"
   ]
  },
  {
   "cell_type": "markdown",
   "metadata": {},
   "source": [
    "## Business Understanding"
   ]
  },
  {
   "cell_type": "markdown",
   "metadata": {},
   "source": [
    "Mental health is an urgent issue globally, with depression affecting millions of individuals across all demographics. The internet, and particularly social media, has become a place where people often express their struggles, including depression. Early detection of depression symptons can be crucial in providing timely support or intervention. This project’s goal is to leverage data science to better understand and detect depressive expressions in online platforms, potentially paving the way for more proactive mental health support. Given the widespread use of platforms like Reddit, this research could benefit individuals by increasing awareness and intervention opportunities"
   ]
  },
  {
   "cell_type": "markdown",
   "metadata": {},
   "source": [
    "\n",
    "## Data Understanding\n",
    "\n",
    "Datasource: https://www.kaggle.com/datasets/rishabhkausish/reddit-depression-dataset/data\n",
    "\n",
    "The dataset already includes several key features that can be used to analyze and predict depression indicators based on Reddit posts. Specifically, the data has 7 key columns:\n",
    "\n",
    "subreddit : The subreddit where each post was made, with posts from \"Depression\" and \"SuicideWatch\" labeled as 1 for depression and posts from other subreddits labeled as 0 (non-depression).\n",
    "\n",
    "title: The title of the Reddit post.\n",
    "\n",
    "body: The full text of the Reddit post, which may contain valuable information for understanding the context, tone, and possible indicators of depression.\n",
    "\n",
    "upvotes: Number of upvotes each post received, which may indicate the post's visibility or resonance with the community.\n",
    "\n",
    "created_utc: The timestamp of when the post was created in UTC, which can help in analyzing temporal trends.\n",
    "\n",
    "num_comments: The number of comments on each post, which could provide insights into community engagement.\n",
    "\n",
    "label: The target variable indicating depression (1) or non-depression (0) based on subreddit. .... The raw data was collected from five Reddit subreddits (sub topics), categorized based on their content. These included: Teenagers, Depression, SuicideWatch, DeepThoughts, Happy\n",
    "\n",
    "Since the data is already collected from Reddit, with over 6 million rows, further data acquisition may not be necessary. Infact, the team proposes reducing the dataset to about 500,000 rows for the purpose of this project(and to save our laptops). However, if additional data is needed, we could plan to scrape Reddit for more recent posts using a tool that we could identify through further research, provided we comply with Reddit's data collection policies and privacy standards.\n"
   ]
  },
  {
   "cell_type": "markdown",
   "metadata": {},
   "source": []
  },
  {
   "cell_type": "code",
   "execution_count": 1,
   "metadata": {},
   "outputs": [],
   "source": [
    "#import libraries needed\n",
    "import pandas as pd\n",
    "import numpy as np\n",
    "import os\n",
    "import matplotlib.pyplot as plt\n",
    "import seaborn as sns\n",
    "from sklearn.decomposition import PCA\n",
    "from sklearn.preprocessing import StandardScaler"
   ]
  },
  {
   "cell_type": "code",
   "execution_count": 5,
   "metadata": {},
   "outputs": [
    {
     "name": "stdout",
     "output_type": "stream",
     "text": [
      "   subreddit                                              title  \\\n",
      "0  teenagers                        Day 18 of doing 50 push-ups   \n",
      "1  teenagers  There isn’t a better feeling than finishing yo...   \n",
      "2  teenagers  LMAOOO I can only get this guy to talk to me i...   \n",
      "3  teenagers                       This isn't going to work out   \n",
      "4  teenagers  Am I the only guy who found it hurtful as a ch...   \n",
      "5  teenagers                                   Phew , close one   \n",
      "6  teenagers              Listen to my favorite song part 2 🤩🤩🤩   \n",
      "7  teenagers                                 Hard core cuddling   \n",
      "8  teenagers                      Don't communicate with women.   \n",
      "9  teenagers       Do you guys just ever want to be left alone?   \n",
      "\n",
      "                                                body  upvotes   created_utc  \\\n",
      "0                                                NaN      4.0  1.619357e+09   \n",
      "1  Then your teacher hits you with that “ Good jo...      7.0  1.554103e+09   \n",
      "2                              Yeahhh maybe not babe      4.0  1.649342e+09   \n",
      "3                                                NaN    236.0  1.417630e+09   \n",
      "4   \\n\\nLike... why? How is that funny? How does ...      6.0  1.569280e+09   \n",
      "5                                                NaN     11.0  1.587389e+09   \n",
      "6                       https://youtu.be/MtN1YnoL46Q      9.0  1.610744e+09   \n",
      "7                                             #moans     41.0  1.625997e+09   \n",
      "8  I watched my friend go to high five a girl and...      7.0  1.557873e+09   \n",
      "9  Just, after a bunch of socialising I want to c...      5.0  1.511478e+09   \n",
      "\n",
      "   num_comments  label  \n",
      "0           4.0    0.0  \n",
      "1           NaN    0.0  \n",
      "2          12.0    0.0  \n",
      "3          33.0    0.0  \n",
      "4           4.0    0.0  \n",
      "5           NaN    0.0  \n",
      "6          11.0    0.0  \n",
      "7          19.0    0.0  \n",
      "8          11.0    0.0  \n",
      "9          10.0    0.0  \n"
     ]
    }
   ],
   "source": [
    "#Load the dataset to use \n",
    "#data = pd.read_csv(file_path)  # \n",
    "data = pd.read_csv('Data/reduced_reddit.csv', index_col=False)\n",
    "print(data.head(10))  # Display the first few rows of the dataframe\n"
   ]
  },
  {
   "cell_type": "code",
   "execution_count": null,
   "metadata": {},
   "outputs": [
    {
     "name": "stdout",
     "output_type": "stream",
     "text": [
      "<class 'pandas.core.frame.DataFrame'>\n",
      "RangeIndex: 98826 entries, 0 to 98825\n",
      "Data columns (total 7 columns):\n",
      " #   Column        Non-Null Count  Dtype  \n",
      "---  ------        --------------  -----  \n",
      " 0   subreddit     98826 non-null  object \n",
      " 1   title         98826 non-null  object \n",
      " 2   body          80371 non-null  object \n",
      " 3   upvotes       98826 non-null  float64\n",
      " 4   created_utc   98826 non-null  float64\n",
      " 5   num_comments  94297 non-null  float64\n",
      " 6   label         98826 non-null  float64\n",
      "dtypes: float64(4), object(3)\n",
      "memory usage: 5.3+ MB\n"
     ]
    }
   ],
   "source": [
    "#check the dataset information \n",
    "data.info()"
   ]
  },
  {
   "cell_type": "code",
   "execution_count": 7,
   "metadata": {},
   "outputs": [
    {
     "data": {
      "text/html": [
       "<div>\n",
       "<style scoped>\n",
       "    .dataframe tbody tr th:only-of-type {\n",
       "        vertical-align: middle;\n",
       "    }\n",
       "\n",
       "    .dataframe tbody tr th {\n",
       "        vertical-align: top;\n",
       "    }\n",
       "\n",
       "    .dataframe thead th {\n",
       "        text-align: right;\n",
       "    }\n",
       "</style>\n",
       "<table border=\"1\" class=\"dataframe\">\n",
       "  <thead>\n",
       "    <tr style=\"text-align: right;\">\n",
       "      <th></th>\n",
       "      <th>upvotes</th>\n",
       "      <th>created_utc</th>\n",
       "      <th>num_comments</th>\n",
       "      <th>label</th>\n",
       "    </tr>\n",
       "  </thead>\n",
       "  <tbody>\n",
       "    <tr>\n",
       "      <th>count</th>\n",
       "      <td>98826.000000</td>\n",
       "      <td>9.882600e+04</td>\n",
       "      <td>94297.000000</td>\n",
       "      <td>98826.000000</td>\n",
       "    </tr>\n",
       "    <tr>\n",
       "      <th>mean</th>\n",
       "      <td>62.315555</td>\n",
       "      <td>1.566569e+09</td>\n",
       "      <td>15.217069</td>\n",
       "      <td>0.194443</td>\n",
       "    </tr>\n",
       "    <tr>\n",
       "      <th>std</th>\n",
       "      <td>937.347581</td>\n",
       "      <td>6.977745e+07</td>\n",
       "      <td>71.638197</td>\n",
       "      <td>0.395773</td>\n",
       "    </tr>\n",
       "    <tr>\n",
       "      <th>min</th>\n",
       "      <td>4.000000</td>\n",
       "      <td>1.202084e+09</td>\n",
       "      <td>1.000000</td>\n",
       "      <td>0.000000</td>\n",
       "    </tr>\n",
       "    <tr>\n",
       "      <th>25%</th>\n",
       "      <td>5.000000</td>\n",
       "      <td>1.552254e+09</td>\n",
       "      <td>4.000000</td>\n",
       "      <td>0.000000</td>\n",
       "    </tr>\n",
       "    <tr>\n",
       "      <th>50%</th>\n",
       "      <td>7.000000</td>\n",
       "      <td>1.578218e+09</td>\n",
       "      <td>7.000000</td>\n",
       "      <td>0.000000</td>\n",
       "    </tr>\n",
       "    <tr>\n",
       "      <th>75%</th>\n",
       "      <td>11.000000</td>\n",
       "      <td>1.611584e+09</td>\n",
       "      <td>14.000000</td>\n",
       "      <td>0.000000</td>\n",
       "    </tr>\n",
       "    <tr>\n",
       "      <th>max</th>\n",
       "      <td>62899.000000</td>\n",
       "      <td>1.672531e+09</td>\n",
       "      <td>7880.000000</td>\n",
       "      <td>1.000000</td>\n",
       "    </tr>\n",
       "  </tbody>\n",
       "</table>\n",
       "</div>"
      ],
      "text/plain": [
       "            upvotes   created_utc  num_comments         label\n",
       "count  98826.000000  9.882600e+04  94297.000000  98826.000000\n",
       "mean      62.315555  1.566569e+09     15.217069      0.194443\n",
       "std      937.347581  6.977745e+07     71.638197      0.395773\n",
       "min        4.000000  1.202084e+09      1.000000      0.000000\n",
       "25%        5.000000  1.552254e+09      4.000000      0.000000\n",
       "50%        7.000000  1.578218e+09      7.000000      0.000000\n",
       "75%       11.000000  1.611584e+09     14.000000      0.000000\n",
       "max    62899.000000  1.672531e+09   7880.000000      1.000000"
      ]
     },
     "execution_count": 7,
     "metadata": {},
     "output_type": "execute_result"
    }
   ],
   "source": [
    "#check on the description of numerical datatypes\n",
    "data.describe()"
   ]
  },
  {
   "cell_type": "markdown",
   "metadata": {},
   "source": [
    "## Data Cleaning"
   ]
  },
  {
   "cell_type": "code",
   "execution_count": 8,
   "metadata": {},
   "outputs": [
    {
     "data": {
      "text/plain": [
       "subreddit        0.000000\n",
       "title            0.000000\n",
       "body            18.674236\n",
       "upvotes          0.000000\n",
       "created_utc      0.000000\n",
       "num_comments     4.582802\n",
       "label            0.000000\n",
       "dtype: float64"
      ]
     },
     "execution_count": 8,
     "metadata": {},
     "output_type": "execute_result"
    }
   ],
   "source": [
    "#check to see if there are null values in percentage form\n",
    "data.isnull().sum() / len(data) * 100"
   ]
  },
  {
   "cell_type": "markdown",
   "metadata": {},
   "source": [
    "The dataset has some columns that have null values, namely body and num_comments. The latter has 18% of the rows with missing values while the former has averagely 5% of missing values which we can drop these missing rows as it makes a small percentage of the data. \n",
    "For the body column, I will impute the missing values by filling with the text \"no content\".  "
   ]
  },
  {
   "cell_type": "code",
   "execution_count": 9,
   "metadata": {},
   "outputs": [
    {
     "name": "stdout",
     "output_type": "stream",
     "text": [
      "<class 'pandas.core.frame.DataFrame'>\n",
      "RangeIndex: 98826 entries, 0 to 98825\n",
      "Data columns (total 7 columns):\n",
      " #   Column        Non-Null Count  Dtype  \n",
      "---  ------        --------------  -----  \n",
      " 0   subreddit     98826 non-null  object \n",
      " 1   title         98826 non-null  object \n",
      " 2   body          80371 non-null  object \n",
      " 3   upvotes       98826 non-null  float64\n",
      " 4   created_utc   98826 non-null  float64\n",
      " 5   num_comments  98826 non-null  float64\n",
      " 6   label         98826 non-null  float64\n",
      "dtypes: float64(4), object(3)\n",
      "memory usage: 5.3+ MB\n"
     ]
    }
   ],
   "source": [
    "# Now you can fill missing values in 'body' column for the new 'data_main'\n",
    "data['num_comments'] = data['num_comments'].fillna(0)\n",
    "\n",
    "# Check the DataFrame info again to confirm the change\n",
    "data.info() "
   ]
  },
  {
   "cell_type": "code",
   "execution_count": 10,
   "metadata": {},
   "outputs": [
    {
     "data": {
      "text/plain": [
       "subreddit           0\n",
       "title               0\n",
       "body            18455\n",
       "upvotes             0\n",
       "created_utc         0\n",
       "num_comments        0\n",
       "label               0\n",
       "dtype: int64"
      ]
     },
     "execution_count": 10,
     "metadata": {},
     "output_type": "execute_result"
    }
   ],
   "source": [
    "data.isnull().sum()"
   ]
  },
  {
   "cell_type": "code",
   "execution_count": 11,
   "metadata": {},
   "outputs": [
    {
     "name": "stdout",
     "output_type": "stream",
     "text": [
      "<class 'pandas.core.frame.DataFrame'>\n",
      "RangeIndex: 98826 entries, 0 to 98825\n",
      "Data columns (total 7 columns):\n",
      " #   Column        Non-Null Count  Dtype  \n",
      "---  ------        --------------  -----  \n",
      " 0   subreddit     98826 non-null  object \n",
      " 1   title         98826 non-null  object \n",
      " 2   body          98826 non-null  object \n",
      " 3   upvotes       98826 non-null  float64\n",
      " 4   created_utc   98826 non-null  float64\n",
      " 5   num_comments  98826 non-null  float64\n",
      " 6   label         98826 non-null  float64\n",
      "dtypes: float64(4), object(3)\n",
      "memory usage: 5.3+ MB\n"
     ]
    }
   ],
   "source": [
    "# Now you can fill missing values in 'body' column for the new 'data_main'\n",
    "data['body'] = data['body'].fillna(\"No content\")\n",
    "\n",
    "# Check the DataFrame info again to confirm the change\n",
    "data.info() "
   ]
  },
  {
   "cell_type": "code",
   "execution_count": 12,
   "metadata": {},
   "outputs": [
    {
     "name": "stdout",
     "output_type": "stream",
     "text": [
      "<class 'pandas.core.frame.DataFrame'>\n",
      "RangeIndex: 98826 entries, 0 to 98825\n",
      "Data columns (total 7 columns):\n",
      " #   Column        Non-Null Count  Dtype  \n",
      "---  ------        --------------  -----  \n",
      " 0   subreddit     98826 non-null  object \n",
      " 1   title         98826 non-null  object \n",
      " 2   body          98826 non-null  object \n",
      " 3   upvotes       98826 non-null  float64\n",
      " 4   created_utc   98826 non-null  float64\n",
      " 5   num_comments  98826 non-null  float64\n",
      " 6   label         98826 non-null  float64\n",
      "dtypes: float64(4), object(3)\n",
      "memory usage: 5.3+ MB\n"
     ]
    }
   ],
   "source": [
    "# Now you can fill missing values in 'body' column for the new 'data_main'\n",
    "data['body'] = data['body'].fillna(\"No content\")\n",
    "\n",
    "# Check the DataFrame info again to confirm the change\n",
    "data.info() "
   ]
  },
  {
   "cell_type": "code",
   "execution_count": null,
   "metadata": {},
   "outputs": [
    {
     "data": {
      "text/plain": [
       "subreddit       0\n",
       "title           0\n",
       "body            0\n",
       "upvotes         0\n",
       "created_utc     0\n",
       "num_comments    0\n",
       "label           0\n",
       "dtype: int64"
      ]
     },
     "execution_count": 13,
     "metadata": {},
     "output_type": "execute_result"
    }
   ],
   "source": [
    "#check for missing values \n",
    "data.isnull().sum()"
   ]
  },
  {
   "cell_type": "code",
   "execution_count": 16,
   "metadata": {},
   "outputs": [
    {
     "data": {
      "text/html": [
       "<div>\n",
       "<style scoped>\n",
       "    .dataframe tbody tr th:only-of-type {\n",
       "        vertical-align: middle;\n",
       "    }\n",
       "\n",
       "    .dataframe tbody tr th {\n",
       "        vertical-align: top;\n",
       "    }\n",
       "\n",
       "    .dataframe thead th {\n",
       "        text-align: right;\n",
       "    }\n",
       "</style>\n",
       "<table border=\"1\" class=\"dataframe\">\n",
       "  <thead>\n",
       "    <tr style=\"text-align: right;\">\n",
       "      <th></th>\n",
       "      <th>subreddit</th>\n",
       "      <th>title</th>\n",
       "      <th>body</th>\n",
       "      <th>upvotes</th>\n",
       "      <th>created_utc</th>\n",
       "      <th>num_comments</th>\n",
       "      <th>label</th>\n",
       "    </tr>\n",
       "  </thead>\n",
       "  <tbody>\n",
       "    <tr>\n",
       "      <th>0</th>\n",
       "      <td>teenagers</td>\n",
       "      <td>Day 18 of doing 50 push-ups</td>\n",
       "      <td>No content</td>\n",
       "      <td>4.0</td>\n",
       "      <td>2021-04-25 13:25:39</td>\n",
       "      <td>4.0</td>\n",
       "      <td>0.0</td>\n",
       "    </tr>\n",
       "    <tr>\n",
       "      <th>1</th>\n",
       "      <td>teenagers</td>\n",
       "      <td>There isn’t a better feeling than finishing yo...</td>\n",
       "      <td>Then your teacher hits you with that “ Good jo...</td>\n",
       "      <td>7.0</td>\n",
       "      <td>2019-04-01 07:19:57</td>\n",
       "      <td>0.0</td>\n",
       "      <td>0.0</td>\n",
       "    </tr>\n",
       "    <tr>\n",
       "      <th>2</th>\n",
       "      <td>teenagers</td>\n",
       "      <td>LMAOOO I can only get this guy to talk to me i...</td>\n",
       "      <td>Yeahhh maybe not babe</td>\n",
       "      <td>4.0</td>\n",
       "      <td>2022-04-07 14:35:00</td>\n",
       "      <td>12.0</td>\n",
       "      <td>0.0</td>\n",
       "    </tr>\n",
       "    <tr>\n",
       "      <th>3</th>\n",
       "      <td>teenagers</td>\n",
       "      <td>This isn't going to work out</td>\n",
       "      <td>No content</td>\n",
       "      <td>236.0</td>\n",
       "      <td>2014-12-03 18:12:52</td>\n",
       "      <td>33.0</td>\n",
       "      <td>0.0</td>\n",
       "    </tr>\n",
       "    <tr>\n",
       "      <th>4</th>\n",
       "      <td>teenagers</td>\n",
       "      <td>Am I the only guy who found it hurtful as a ch...</td>\n",
       "      <td>\\n\\nLike... why? How is that funny? How does ...</td>\n",
       "      <td>6.0</td>\n",
       "      <td>2019-09-23 23:07:59</td>\n",
       "      <td>4.0</td>\n",
       "      <td>0.0</td>\n",
       "    </tr>\n",
       "    <tr>\n",
       "      <th>...</th>\n",
       "      <td>...</td>\n",
       "      <td>...</td>\n",
       "      <td>...</td>\n",
       "      <td>...</td>\n",
       "      <td>...</td>\n",
       "      <td>...</td>\n",
       "      <td>...</td>\n",
       "    </tr>\n",
       "    <tr>\n",
       "      <th>98821</th>\n",
       "      <td>depression</td>\n",
       "      <td>Has anyone ever had any problems with gangs?</td>\n",
       "      <td>I don't care if my grammer isn't good so dont ...</td>\n",
       "      <td>8.0</td>\n",
       "      <td>2019-05-17 08:30:19</td>\n",
       "      <td>1.0</td>\n",
       "      <td>1.0</td>\n",
       "    </tr>\n",
       "    <tr>\n",
       "      <th>98822</th>\n",
       "      <td>SuicideWatch</td>\n",
       "      <td>Moments away from killing myself, not even bot...</td>\n",
       "      <td>I don't want to talk about my problems, I don'...</td>\n",
       "      <td>12.0</td>\n",
       "      <td>2012-10-20 17:24:21</td>\n",
       "      <td>8.0</td>\n",
       "      <td>1.0</td>\n",
       "    </tr>\n",
       "    <tr>\n",
       "      <th>98823</th>\n",
       "      <td>SuicideWatch</td>\n",
       "      <td>I've grown used to being like this for years.</td>\n",
       "      <td>I'm not suicidal at the moment, in fact I feel...</td>\n",
       "      <td>14.0</td>\n",
       "      <td>2015-05-19 22:19:26</td>\n",
       "      <td>4.0</td>\n",
       "      <td>1.0</td>\n",
       "    </tr>\n",
       "    <tr>\n",
       "      <th>98824</th>\n",
       "      <td>depression</td>\n",
       "      <td>This speech from The Lord of the Rings really ...</td>\n",
       "      <td>\"It's like in the great stories, Mr. Frodo. Th...</td>\n",
       "      <td>323.0</td>\n",
       "      <td>2012-12-16 15:44:18</td>\n",
       "      <td>28.0</td>\n",
       "      <td>1.0</td>\n",
       "    </tr>\n",
       "    <tr>\n",
       "      <th>98825</th>\n",
       "      <td>SuicideWatch</td>\n",
       "      <td>I just don't know....</td>\n",
       "      <td>I have never thought that I will end up in thi...</td>\n",
       "      <td>5.0</td>\n",
       "      <td>2012-02-04 11:36:07</td>\n",
       "      <td>3.0</td>\n",
       "      <td>1.0</td>\n",
       "    </tr>\n",
       "  </tbody>\n",
       "</table>\n",
       "<p>98826 rows × 7 columns</p>\n",
       "</div>"
      ],
      "text/plain": [
       "          subreddit                                              title  \\\n",
       "0         teenagers                        Day 18 of doing 50 push-ups   \n",
       "1         teenagers  There isn’t a better feeling than finishing yo...   \n",
       "2         teenagers  LMAOOO I can only get this guy to talk to me i...   \n",
       "3         teenagers                       This isn't going to work out   \n",
       "4         teenagers  Am I the only guy who found it hurtful as a ch...   \n",
       "...             ...                                                ...   \n",
       "98821    depression       Has anyone ever had any problems with gangs?   \n",
       "98822  SuicideWatch  Moments away from killing myself, not even bot...   \n",
       "98823  SuicideWatch      I've grown used to being like this for years.   \n",
       "98824    depression  This speech from The Lord of the Rings really ...   \n",
       "98825  SuicideWatch                              I just don't know....   \n",
       "\n",
       "                                                    body  upvotes  \\\n",
       "0                                             No content      4.0   \n",
       "1      Then your teacher hits you with that “ Good jo...      7.0   \n",
       "2                                  Yeahhh maybe not babe      4.0   \n",
       "3                                             No content    236.0   \n",
       "4       \\n\\nLike... why? How is that funny? How does ...      6.0   \n",
       "...                                                  ...      ...   \n",
       "98821  I don't care if my grammer isn't good so dont ...      8.0   \n",
       "98822  I don't want to talk about my problems, I don'...     12.0   \n",
       "98823  I'm not suicidal at the moment, in fact I feel...     14.0   \n",
       "98824  \"It's like in the great stories, Mr. Frodo. Th...    323.0   \n",
       "98825  I have never thought that I will end up in thi...      5.0   \n",
       "\n",
       "              created_utc  num_comments  label  \n",
       "0     2021-04-25 13:25:39           4.0    0.0  \n",
       "1     2019-04-01 07:19:57           0.0    0.0  \n",
       "2     2022-04-07 14:35:00          12.0    0.0  \n",
       "3     2014-12-03 18:12:52          33.0    0.0  \n",
       "4     2019-09-23 23:07:59           4.0    0.0  \n",
       "...                   ...           ...    ...  \n",
       "98821 2019-05-17 08:30:19           1.0    1.0  \n",
       "98822 2012-10-20 17:24:21           8.0    1.0  \n",
       "98823 2015-05-19 22:19:26           4.0    1.0  \n",
       "98824 2012-12-16 15:44:18          28.0    1.0  \n",
       "98825 2012-02-04 11:36:07           3.0    1.0  \n",
       "\n",
       "[98826 rows x 7 columns]"
      ]
     },
     "execution_count": 16,
     "metadata": {},
     "output_type": "execute_result"
    }
   ],
   "source": [
    "# Convert 'created_utc' column from UTC epoch time to datetime\n",
    "data['created_utc'] = pd.to_datetime(data['created_utc'], unit='s')\n",
    "\n",
    "# To see the updated DataFrame\n",
    "\n",
    "data"
   ]
  }
 ],
 "metadata": {
  "kernelspec": {
   "display_name": "learn-env",
   "language": "python",
   "name": "python3"
  },
  "language_info": {
   "codemirror_mode": {
    "name": "ipython",
    "version": 3
   },
   "file_extension": ".py",
   "mimetype": "text/x-python",
   "name": "python",
   "nbconvert_exporter": "python",
   "pygments_lexer": "ipython3",
   "version": "3.8.5"
  }
 },
 "nbformat": 4,
 "nbformat_minor": 2
}
